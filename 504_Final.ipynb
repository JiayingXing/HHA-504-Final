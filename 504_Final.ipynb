{
  "nbformat": 4,
  "nbformat_minor": 0,
  "metadata": {
    "colab": {
      "name": "504 Final.ipynb",
      "provenance": []
    },
    "kernelspec": {
      "name": "python3",
      "display_name": "Python 3"
    },
    "language_info": {
      "name": "python"
    }
  },
  "cells": [
    {
      "cell_type": "markdown",
      "source": [
        "#First, Set up a Virtual Machine\n",
        "1. Create a Virtual Machine on Microsoft Azure\n",
        "2. Set up a VM names AHIServe\n",
        "3. Create a name and password\n",
        "4. Add MySQL inbound port 3306\n",
        "5. Open Auto-shutdown of virtual machine\n"
      ],
      "metadata": {
        "id": "4xfKDTuqGJAS"
      }
    },
    {
      "cell_type": "markdown",
      "source": [
        "#Import All Pakages"
      ],
      "metadata": {
        "id": "zVwhDOIdsYyB"
      }
    },
    {
      "cell_type": "code",
      "execution_count": null,
      "metadata": {
        "colab": {
          "base_uri": "https://localhost:8080/"
        },
        "id": "5IXQgq7Eg1We",
        "outputId": "7be65357-e1c3-4185-82df-c3f9dc41327c"
      },
      "outputs": [
        {
          "output_type": "stream",
          "name": "stdout",
          "text": [
            "Collecting pymysql\n",
            "  Downloading PyMySQL-1.0.2-py3-none-any.whl (43 kB)\n",
            "\u001b[?25l\r\u001b[K     |███████▌                        | 10 kB 14.2 MB/s eta 0:00:01\r\u001b[K     |███████████████                 | 20 kB 10.6 MB/s eta 0:00:01\r\u001b[K     |██████████████████████▍         | 30 kB 7.7 MB/s eta 0:00:01\r\u001b[K     |██████████████████████████████  | 40 kB 7.2 MB/s eta 0:00:01\r\u001b[K     |████████████████████████████████| 43 kB 473 kB/s \n",
            "\u001b[?25hInstalling collected packages: pymysql\n",
            "Successfully installed pymysql-1.0.2\n",
            "Collecting cryptography\n",
            "  Downloading cryptography-36.0.1-cp36-abi3-manylinux_2_24_x86_64.whl (3.6 MB)\n",
            "\u001b[K     |████████████████████████████████| 3.6 MB 6.4 MB/s \n",
            "\u001b[?25hRequirement already satisfied: cffi>=1.12 in /usr/local/lib/python3.7/dist-packages (from cryptography) (1.15.0)\n",
            "Requirement already satisfied: pycparser in /usr/local/lib/python3.7/dist-packages (from cffi>=1.12->cryptography) (2.21)\n",
            "Installing collected packages: cryptography\n",
            "Successfully installed cryptography-36.0.1\n"
          ]
        }
      ],
      "source": [
        "import pandas as pd\n",
        "import sqlalchemy\n",
        "from sqlalchemy import create_engine\n",
        "!pip install pymysql\n",
        "!pip install cryptography"
      ]
    },
    {
      "cell_type": "markdown",
      "source": [
        "#Load CSV Database"
      ],
      "metadata": {
        "id": "yJr0b7ybs5a9"
      }
    },
    {
      "cell_type": "code",
      "source": [
        "H1N1 = pd.read_csv('https://raw.githubusercontent.com/JiayingXing/HHA-504-Final/main/H1N1_Flu_Vaccines.csv')"
      ],
      "metadata": {
        "id": "laZWcVdJti8s"
      },
      "execution_count": null,
      "outputs": []
    },
    {
      "cell_type": "markdown",
      "source": [
        "#Second, Access the Virtual Machine in Terminal\n",
        "1. Type ssh\n",
        "2. Type ssh Username@IP address\n",
        "3. Enter the password\n",
        "3. Type \"sudo apt-get update\"\n",
        "4. Type \"sudo apt install mysql-server mysql-client\n",
        "5. Type \"sudo mysql\" Welcome to the MySQL monitor\n",
        "6. STEP 1: CREATE USER ‘dba'@'%' IDENTIFIED BY ‘ahi2020’;\n",
        "7. STEP 2: GRANT ALL PRIVILEGES ON *.* TO 'dba'@'%' WITH GRANT OPTION;\n",
        "8. Back to the VM in terminal\n",
        "9. Type \"sudo nano/etc/mysql.conf.d/mysqld.cnf\n",
        "10. Change bind-address to 0.0.0.0, Control + o to save\n",
        "11. Type \"/etc/init.d/mysql restart\" to restart mysql"
      ],
      "metadata": {
        "id": "6FNbObG6Ix7p"
      }
    },
    {
      "cell_type": "markdown",
      "source": [
        "#Connect To Instance, Create MySQL User"
      ],
      "metadata": {
        "id": "WB185WIjsrfh"
      }
    },
    {
      "cell_type": "code",
      "source": [
        "MYSQL_HOSTNAME = '20.120.0.96'\n",
        "MYSQL_USER = 'dba'\n",
        "MYSQL_PASSWORD = 'ahi2021'\n",
        "MYSQL_DATABASE = 'e2e'\n",
        "connection_string = f'mysql+pymysql://{MYSQL_USER}:{MYSQL_PASSWORD}@{MYSQL_HOSTNAME}:3306/{MYSQL_DATABASE}'\n",
        "engine = create_engine(connection_string)"
      ],
      "metadata": {
        "id": "5FxprfKViZgM"
      },
      "execution_count": null,
      "outputs": []
    },
    {
      "cell_type": "code",
      "source": [
        "TABLENAME = 'H1N1'"
      ],
      "metadata": {
        "id": "lROXWg1y_usV"
      },
      "execution_count": null,
      "outputs": []
    },
    {
      "cell_type": "code",
      "source": [
        "print(engine.table_names())"
      ],
      "metadata": {
        "colab": {
          "base_uri": "https://localhost:8080/"
        },
        "id": "ntDcPMFpxXw0",
        "outputId": "7b0486d2-3a93-4c89-df65-b04101215587"
      },
      "execution_count": null,
      "outputs": [
        {
          "output_type": "stream",
          "name": "stderr",
          "text": [
            "/usr/local/lib/python3.7/dist-packages/ipykernel_launcher.py:1: SADeprecationWarning: The Engine.table_names() method is deprecated and will be removed in a future release.  Please refer to Inspector.get_table_names(). (deprecated since: 1.4)\n",
            "  \"\"\"Entry point for launching an IPython kernel.\n"
          ]
        },
        {
          "output_type": "stream",
          "name": "stdout",
          "text": [
            "['H1N1_Flu_Vaccines']\n"
          ]
        }
      ]
    },
    {
      "cell_type": "code",
      "source": [
        "H1N1.to_sql('H1N1_Flu_Vaccines', con=engine, if_exists='append')"
      ],
      "metadata": {
        "id": "lX-CdvsJWHvO"
      },
      "execution_count": null,
      "outputs": []
    },
    {
      "cell_type": "markdown",
      "source": [
        "#Create dump file contains a physical backup of the file\n",
        "1. Type \"sudo mysqldump e2e>e2e_dump.sql\n",
        "2. Type \"ls\"\n",
        "3. Type \"nano e2e_dump.sql\"\n"
      ],
      "metadata": {
        "id": "smgqqO7dLeOw"
      }
    },
    {
      "cell_type": "markdown",
      "source": [
        "#Using the SCP command from your terminal, move that file to your own local computer\n",
        "scp 20.120.0.96"
      ],
      "metadata": {
        "id": "NRs9fgjLMdxz"
      }
    }
  ]
}